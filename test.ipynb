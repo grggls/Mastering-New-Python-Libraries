{
  "cells": [
    {
      "cell_type": "code",
      "execution_count": null,
      "metadata": {},
      "outputs": [],
      "source": [
        "# Setup and Imports\n",
        "import sys\n",
        "import os\n",
        "from pathlib import Path\n",
        "\n",
        "# Enable shell magic for terminal commands\n",
        "# Note: %%bash magic is built into IPython/Jupyter\n",
        "\n",
        "# Set up display options\n",
        "from IPython.display import display, HTML\n",
        "\n",
        "# Configure notebook for better output\n",
        "import warnings\n",
        "warnings.filterwarnings('ignore')\n",
        "\n",
        "print(\"✅ Notebook setup complete!\")"
      ]
    },
    {
      "cell_type": "markdown",
      "metadata": {},
      "source": [
        "# 📚 Mastering New Python Libraries\n",
        "\n",
        "## Interactive Notebook Version\n",
        "\n",
        "This notebook contains all the code examples from the README.md file. \n",
        "You can run each cell interactively to explore Python libraries.\n",
        "\n",
        "### How to Use This Notebook:\n",
        "\n",
        "1. **Setup Cell**: Run the first cell to configure the environment\n",
        "2. **Code Cells**: Execute Python examples to see them in action\n",
        "3. **Terminal Cells**: Run shell commands with `%%bash` magic\n",
        "4. **Markdown Cells**: Read explanations and documentation\n",
        "\n",
        "---\n"
      ]
    },
    {
      "cell_type": "markdown",
      "metadata": {
        "source_anchor": "README.md:1",
        "source_file": "README.md",
        "source_line": 1
      },
      "source": [
        "<!-- source:README.md:1 -->\n",
        "# 🐍 Mastering Python Libraries: An Interactive Exploration Guide\n",
        "*From first import to production-ready code: a systematic approach to understanding any Python package*\n",
        "\n",
        "**Author**: Gregory Damiani / [https://github.com/grggls](https://github.com/grggls)\n",
        "\n",
        "\n",
        "**License**: CC BY-NC-SA (Attribution-NonCommercial-ShareAlike)\n",
        "\n",
        "---\n",
        "\n",
        "When you encounter a new Python library, interactive exploration becomes your most powerful learning tool. Whether you're using a Python REPL, IPython shell, or Jupyter notebook, the ability to experiment, inspect, and iterate in real-time transforms how quickly you can become productive with unfamiliar code.\n",
        "\n",
        "The REPL (Read-Eval-Print Loop) excels at rapid experimentation and immediate feedback - perfect for testing hypotheses about how a library works. Jupyter notebooks complement this by serving as living documents where you can capture your exploration journey, document discoveries, and build reusable examples that become references for your team.\n",
        "\n",
        "This guide provides a systematic approach to library exploration that goes beyond basic `help()` commands. You'll learn to understand the domain model, discover usage patterns, and write defensive, idiomatic code. The key insight is working backwards from your end goal: you want to understand not just *what* the library does, but *how* it thinks about the problem domain and *how* you should interact with it safely and efficiently.\n",
        "\n",
        "---\n",
        "\n",
        "## 📝 Language and Conventions\n",
        "\n",
        "Before we dive into exploration techniques, let's clarify some terminology that often causes confusion, even among experienced Python developers.\n",
        "\n",
        "**Module**: A single Python file (`.py`) containing Python code. For example, `math.py` is a module you can import with `import math`. Modules are the basic building blocks of Python code organization.\n",
        "\n",
        "**Package**: A collection of modules organized in a directory structure with an `__init__.py` file. The `__init__.py` file tells Python to treat the directory as a package. Most third-party code you install with `pip` is technically a package, even if it feels like a single unit.\n",
        "\n",
        "**Library**: A conceptual term referring to a collection of code that provides specific functionality. It could be a single module, multiple modules, or a complex package structure. In everyday conversation, \"library\" and \"package\" are often used interchangeably when referring to third-party code.\n",
        "\n",
        "**Examples in practice:**\n",
        "- `requests` - Technically a package with multiple internal modules, but everyone calls it a \"library\"\n",
        "- `json` - A single module in Python's standard library\n",
        "- `numpy` - A complex package structure, commonly called a \"library\"\n",
        "\n",
        "**Throughout this guide**, we'll use these terms somewhat interchangeably as they appear in real-world usage, but when precision matters, we'll be specific. The exploration techniques work the same regardless of whether you're examining a simple module or a complex package.\n",
        "\n",
        "**Import conventions**: When exploring, you'll often see different import styles:\n"
      ]
    },
    {
      "cell_type": "code",
      "execution_count": null,
      "metadata": {
        "source_anchor": "README.md:37",
        "source_file": "README.md",
        "source_line": 37
      },
      "outputs": [],
      "source": [
        "# [source:README.md:37]\n",
        "import requests                        # Import the whole package\n",
        "from requests import Session           # Import specific items into the local namespace\n",
        "import requests as req                 # Import with alias\n"
      ]
    },
    {
      "cell_type": "markdown",
      "metadata": {
        "source_anchor": "README.md:41",
        "source_file": "README.md",
        "source_line": 41
      },
      "source": [
        "<!-- source:README.md:41 -->\n",
        "Each style affects what's available in your namespace and how you access the library's functionality, which influences your exploration approach.\n",
        "\n",
        "---\n",
        "\n",
        "## 🔍 Basic Introspection\n",
        "\n",
        "Start your exploration with these fundamental introspection techniques. These commands give you the essential structure of any Python object - whether it's a module, class, or function. Think of this as taking an X-ray of the library to see its skeleton.\n"
      ]
    },
    {
      "cell_type": "code",
      "execution_count": null,
      "metadata": {
        "source_anchor": "README.md:51",
        "source_file": "README.md",
        "source_line": 51
      },
      "outputs": [],
      "source": [
        "# [source:README.md:51]\n",
        "import requests\n",
        "from requests import Session\n",
        "\n",
        "# Check what type of object you're working with\n",
        "type(requests)     # <class 'module'>\n",
        "type(Session)      # <class 'type'>\n",
        "\n",
        "# List all available attributes\n",
        "dir(requests)      # ['ConnectTimeout', 'HTTPError', 'Session', 'get', 'post', ...]\n",
        "\n",
        "# Get the namespace as a dictionary (more detailed than dir)\n",
        "vars(requests)     # {'__name__': 'requests', '__doc__': '...', 'get': <function>, ...}\n"
      ]
    },
    {
      "cell_type": "markdown",
      "metadata": {
        "source_anchor": "README.md:64",
        "source_file": "README.md",
        "source_line": 64
      },
      "source": [
        "<!-- source:README.md:64 -->\n",
        "### In IPython / Jupyter:\n"
      ]
    },
    {
      "cell_type": "markdown",
      "metadata": {
        "source_anchor": "README.md:67",
        "source_file": "README.md",
        "source_line": 67
      },
      "source": [
        "<!-- source:README.md:67 -->\n",
        "```ipython\n",
        "# Enhanced introspection with ? and ??\n",
        "requests?          # Show documentation and basic info\n",
        "requests.get??     # Show source code (if available)\n",
        "```"
      ]
    },
    {
      "cell_type": "markdown",
      "metadata": {
        "source_anchor": "README.md:71",
        "source_file": "README.md",
        "source_line": 71
      },
      "source": [
        "<!-- source:README.md:71 -->\n",
        "### Key insights from these commands:\n",
        "\n",
        "`type()` tells you what kind of object you're dealing with, which affects how you can interact with it\n",
        "`dir()` shows you everything available in the namespace - your roadmap to what's possible\n",
        "`vars(`)` gives you the underlying dictionary representation with more detail than `dir()`\n",
        "IPython's `?` gives you rich documentation, while `??` shows actual source code\n",
        "Notice how `requests.Session` and `Session` refer to the same class after our imports\n",
        "\n",
        "## 📚 Documentation & Help\n",
        "\n",
        "Good documentation is your roadmap to understanding a library's intended usage patterns. Python's built-in help system, combined with IPython's enhanced introspection, can reveal not just what functions do, but how the library authors expect you to use them.\n"
      ]
    },
    {
      "cell_type": "code",
      "execution_count": null,
      "metadata": {
        "source_anchor": "README.md:85",
        "source_file": "README.md",
        "source_line": 85
      },
      "outputs": [],
      "source": [
        "# [source:README.md:85]\n",
        "help(requests)             # View top-level docstring\n",
        "help(requests.get)         # View docstring for function/class\n",
        "\n",
        "# Rich documentation exploration\n",
        "import webbrowser\n",
        "webbrowser.open(f\"https://pypi.org/project/{requests.__name__}/\")\n"
      ]
    },
    {
      "cell_type": "markdown",
      "metadata": {
        "source_anchor": "README.md:92",
        "source_file": "README.md",
        "source_line": 92
      },
      "source": [
        "<!-- source:README.md:92 -->\n",
        "The top-level module docstring often contains the library's philosophy and high-level usage patterns. Individual function and class docstrings reveal the expected interfaces and common gotchas. IPython's `??` operator is particularly powerful because it shows you the actual implementation, helping you understand performance characteristics and edge cases.\n",
        "\n",
        "---\n",
        "\n",
        "## 🔧 Essential Dunder Attributes\n",
        "\n",
        "Dunder (double underscore) attributes are Python's way of exposing metadata about objects. These attributes tell you about the object's identity, location, and interface contracts - essential information for understanding how to work with the library safely.\n"
      ]
    },
    {
      "cell_type": "code",
      "execution_count": null,
      "metadata": {
        "source_anchor": "README.md:102",
        "source_file": "README.md",
        "source_line": 102
      },
      "outputs": [],
      "source": [
        "# [source:README.md:102]\n",
        "requests.__doc__      # Docstring\n",
        "requests.__file__     # Path to module file\n",
        "requests.__name__     # Module name\n",
        "requests.__version__  # Version (if available)\n"
      ]
    },
    {
      "cell_type": "markdown",
      "metadata": {
        "source_anchor": "README.md:107",
        "source_file": "README.md",
        "source_line": 107
      },
      "source": [
        "<!-- source:README.md:107 -->\n",
        "The `__all__` dunder lists all shared public strings of a module, function, library, etc. If you're writing your own module and sharing it, it's good practice to declare and export an `__all__` for your project. However, not all well-used community libraries do this unfortunately.\n"
      ]
    },
    {
      "cell_type": "code",
      "execution_count": null,
      "metadata": {
        "source_anchor": "README.md:111",
        "source_file": "README.md",
        "source_line": 111
      },
      "outputs": [],
      "source": [
        "# [source:README.md:111]\n",
        "os.__all__           # All exported strings of a function, module, etc.\n"
      ]
    },
    {
      "cell_type": "code",
      "execution_count": null,
      "metadata": {
        "source_anchor": "README.md:115",
        "source_file": "README.md",
        "source_line": 115
      },
      "outputs": [],
      "source": [
        "# [source:README.md:115]\n",
        "# For classes - understand the interface contract\n",
        "requests.Response.__init__        # Constructor signature\n",
        "requests.Response.__dict__        # Instance attributes\n"
      ]
    },
    {
      "cell_type": "markdown",
      "metadata": {
        "source_anchor": "README.md:119",
        "source_file": "README.md",
        "source_line": 119
      },
      "source": [
        "<!-- source:README.md:119 -->\n",
        "`__all__` is particularly important because it defines the public API - what the library authors consider safe and stable for external use. `__file__` helps you understand the library's structure and locate additional resources. For classes, `__slots__` tells you if the class uses memory optimization, which affects how you can dynamically add attributes.\n",
        "\n",
        "## `__slots__` are unique interface detail that some packages use to optimize memory usage\n",
        "\n",
        "`__slots__` is a special class attribute that tells Python to use a fixed-size array for storing instance attributes instead of a dynamic dictionary (`__dict__`). This optimization can significantly reduce memory usage and improve attribute access speed, especially for classes with many instances.\n",
        "\n",
        "### Why Libraries Use `__slots__`\n",
        "\n",
        "**Memory Optimization**: Classes with `__slots__` use 40-50% less memory per instance because they don't need to store a dictionary for each object.\n",
        "\n",
        "**Performance**: Attribute access is faster since Python can directly access the slot instead of doing a dictionary lookup.\n",
        "\n",
        "**Immutability**: Prevents adding new attributes after object creation, which can be useful for data classes and immutable objects.\n",
        "\n",
        "### How to Explore `__slots__`\n"
      ]
    },
    {
      "cell_type": "code",
      "execution_count": null,
      "metadata": {
        "source_anchor": "README.md:137",
        "source_file": "README.md",
        "source_line": 137
      },
      "outputs": [],
      "source": [
        "# [source:README.md:137]\n",
        "# Check if a class uses __slots__\n",
        "if hasattr(requests.Response, '__slots__'):\n",
        "    print(f\"Response uses __slots__: {requests.Response.__slots__}\")\n",
        "else:\n",
        "    print(\"Response uses __dict__ for attributes\")\n",
        "\n",
        "# Compare memory usage (example with dataclasses)\n",
        "from dataclasses import dataclass\n",
        "\n",
        "@dataclass\n",
        "class RegularPoint:\n",
        "    x: int\n",
        "    y: int\n",
        "\n",
        "@dataclass(slots=True)\n",
        "class SlottedPoint:\n",
        "    x: int\n",
        "    y: int\n",
        "\n",
        "# RegularPoint.__slots__ -> AttributeError (uses __dict__)\n",
        "# SlottedPoint.__slots__ -> ('x', 'y')\n",
        "\n",
        "# Test attribute creation\n",
        "regular = RegularPoint(1, 2)\n",
        "regular.z = 3  # ✅ Works\n",
        "\n",
        "slotted = SlottedPoint(1, 2)\n",
        "# slotted.z = 3  # ❌ AttributeError: 'SlottedPoint' object has no attribute 'z'\n"
      ]
    },
    {
      "cell_type": "markdown",
      "metadata": {
        "source_anchor": "README.md:166",
        "source_file": "README.md",
        "source_line": 166
      },
      "source": [
        "<!-- source:README.md:166 -->\n",
        "### Common Libraries That Use `__slots__`\n",
        "\n",
        "**Standard Library Examples:**\n",
        "- `collections.namedtuple` - Uses empty `__slots__ = ()` to prevent new attributes\n",
        "- `dataclasses` with `slots=True` - Modern way to create memory-efficient data classes\n",
        "- `inspect.Signature` - Uses `__slots__ = ('_return_annotation', '_parameters')`\n",
        "\n",
        "**Third-Party Libraries:**\n",
        "- Many data science libraries (pandas, numpy) use `__slots__` for performance-critical classes\n",
        "- ORM libraries often use `__slots__` for model classes\n",
        "- Game engines and scientific computing libraries for memory efficiency\n",
        "\n",
        "### Trade-offs of `__slots__`\n",
        "\n",
        "**Advantages:**\n",
        "- Reduced memory usage\n",
        "- Faster attribute access\n",
        "- Prevents accidental attribute creation\n",
        "\n",
        "**Disadvantages:**\n",
        "- Can't add new attributes dynamically\n",
        "- More complex inheritance (can't easily mix with classes that don't use `__slots__`)\n",
        "- No `__dict__` attribute (unless explicitly included in `__slots__`)\n",
        "\n",
        "### When to Look for `__slots__`\n",
        "\n",
        "Check for `__slots__` when:\n",
        "- Working with data classes or immutable objects\n",
        "- Performance is critical (many instances)\n",
        "- You need to understand memory usage patterns\n",
        "- Exploring libraries that handle large datasets\n",
        "\n",
        "---\n",
        "\n",
        "## 📦 Package Metadata & Dependencies\n",
        "\n",
        "Understanding a package's metadata helps you assess its maturity, compatibility, and ecosystem integration. This information is crucial for making architectural decisions and understanding potential conflicts.\n"
      ]
    },
    {
      "cell_type": "code",
      "execution_count": null,
      "metadata": {
        "source_anchor": "README.md:206",
        "source_file": "README.md",
        "source_line": 206
      },
      "outputs": [],
      "source": [
        "# [source:README.md:206]\n",
        "%%bash\n",
        "# Shell commands\n",
        "$ pip show requests              # Basic package info\n",
        "$ pip show --verbose requests    # Detailed info including dependencies\n"
      ]
    },
    {
      "cell_type": "markdown",
      "metadata": {
        "source_anchor": "README.md:210",
        "source_file": "README.md",
        "source_line": 210
      },
      "source": [
        "<!-- source:README.md:210 -->\n",
        "Python's package metadata system provides programmatic access to the same information you get from `pip show`, but with much more detail and flexibility. The `pkg_resources` and `importlib.metadata` modules let you inspect package versions, dependencies, entry points, and other metadata that can reveal a library's architecture and integration points.\n",
        "\n",
        "This metadata exploration is particularly valuable for understanding dependency chains, identifying potential version conflicts, and discovering hidden functionality like command-line tools or plugin systems that might not be obvious from the main API.\n"
      ]
    },
    {
      "cell_type": "code",
      "execution_count": null,
      "metadata": {
        "source_anchor": "README.md:216",
        "source_file": "README.md",
        "source_line": 216
      },
      "outputs": [],
      "source": [
        "# [source:README.md:216]\n",
        "# Python introspection\n",
        "import pkg_resources\n",
        "import importlib.metadata\n",
        "\n",
        "# Version info\n",
        "dist = pkg_resources.get_distribution(\"requests\")\n",
        "print(f\"Version: {dist.version}\")\n",
        "print(f\"Location: {dist.location}\")\n",
        "\n",
        "# Dependencies\n",
        "try:\n",
        "    metadata = importlib.metadata.metadata(\"requests\")\n",
        "    print(\"Dependencies:\", metadata.get_all(\"Requires-Dist\"))\n",
        "except importlib.metadata.PackageNotFoundError:\n",
        "    print(\"Package metadata not found\")\n",
        "\n",
        "# Find all entry points (CLI commands, plugins, etc.)\n",
        "entry_points = pkg_resources.get_entry_map(\"requests\")\n",
        "print(\"Entry points:\", entry_points)\n"
      ]
    },
    {
      "cell_type": "markdown",
      "metadata": {
        "source_anchor": "README.md:236",
        "source_file": "README.md",
        "source_line": 236
      },
      "source": [
        "<!-- source:README.md:236 -->\n",
        "Dependencies reveal the library's ecosystem and potential version conflicts. Entry points show you if the package provides command-line tools or plugin interfaces - valuable for understanding the full scope of functionality.\n",
        "\n",
        "---\n",
        "\n",
        "## 🎨 Pretty-Print & Visualization\n",
        "\n",
        "Complex data structures and nested objects can be overwhelming when printed with default Python formatting. These techniques help you visualize library structures and data in human-readable formats, making patterns and relationships more obvious.\n"
      ]
    },
    {
      "cell_type": "code",
      "execution_count": null,
      "metadata": {
        "source_anchor": "README.md:246",
        "source_file": "README.md",
        "source_line": 246
      },
      "outputs": [],
      "source": [
        "# [source:README.md:246]\n",
        "from pprint import pprint\n",
        "import json\n",
        "\n",
        "# Create some example data to pretty-print\n",
        "data = {\n",
        "    'requests': {\n",
        "        'classes': ['Session', 'Response', 'Request'],\n",
        "        'functions': ['get', 'post', 'put', 'delete'],\n",
        "        'config': {\n",
        "            'timeout': 30,\n",
        "            'verify': True,\n",
        "            'allow_redirects': True\n",
        "        }\n",
        "    }\n",
        "}\n",
        "\n",
        "# Pretty print complex structures\n",
        "pprint(data, width=80, depth=3)\n"
      ]
    },
    {
      "cell_type": "markdown",
      "metadata": {
        "source_anchor": "README.md:265",
        "source_file": "README.md",
        "source_line": 265
      },
      "source": [
        "<!-- source:README.md:265 -->\n",
        "The `json.dumps()` function converts Python objects to a JSON string representation, making complex data structures readable and portable. The `indent=2` parameter creates nicely formatted, human-readable output, while `default=str` handles non-serializable objects by converting them to strings. The `print_module_tree()` function creates a hierarchical tree view of a module's structure, showing classes, functions, and their methods in an organized format. This visualization helps you quickly understand the library's architecture, identify the main components, and spot patterns in naming conventions that reveal the library's design principles.\n"
      ]
    },
    {
      "cell_type": "code",
      "execution_count": null,
      "metadata": {
        "source_anchor": "README.md:269",
        "source_file": "README.md",
        "source_line": 269
      },
      "outputs": [],
      "source": [
        "# [source:README.md:269]\n",
        "# JSON formatting for serializable data\n",
        "print(json.dumps(data, indent=2, default=str))\n",
        "\n",
        "# Tree-like visualization of module structure\n",
        "def print_module_tree(module, max_depth=2, current_depth=0):\n",
        "    \"\"\"Print a tree view of module structure\"\"\"\n",
        "    if current_depth >= max_depth:\n",
        "        return\n",
        "    \n",
        "    indent = \"  \" * current_depth\n",
        "    for name, obj in inspect.getmembers(requests):\n",
        "        if not name.startswith('_'):\n",
        "            obj_type = type(obj).__name__\n",
        "            print(f\"{indent}├── {name} ({obj_type})\")\n",
        "            \n",
        "            if inspect.isclass(obj) and current_depth < max_depth - 1:\n",
        "                for method_name, method in inspect.getmembers(obj, inspect.ismethod):\n",
        "                    if not method_name.startswith('_'):\n",
        "                        print(f\"{indent}│   ├── {method_name}()\")\n",
        "\n",
        "print_module_tree(requests)\n"
      ]
    },
    {
      "cell_type": "markdown",
      "metadata": {
        "source_anchor": "README.md:291",
        "source_file": "README.md",
        "source_line": 291
      },
      "source": [
        "<!-- source:README.md:291 -->\n",
        "The tree visualization is particularly valuable for understanding hierarchical relationships and spotting naming patterns that reveal the library's organizational principles.\n",
        "\n",
        "---\n",
        "\n",
        "## 🧠 Deep Inspection\n",
        "\n",
        "The `inspect` module is your Swiss Army knife for understanding Python objects at a deeper level. It reveals function signatures, source code, and type information that helps you write more robust code and understand performance implications.\n"
      ]
    },
    {
      "cell_type": "code",
      "execution_count": null,
      "metadata": {
        "source_anchor": "README.md:301",
        "source_file": "README.md",
        "source_line": 301
      },
      "outputs": [],
      "source": [
        "# [source:README.md:301]\n",
        "import inspect\n",
        "\n",
        "# Get all members with their types\n",
        "inspect.getmembers(requests)          # List all members\n",
        "inspect.getsource(requests.get)       # Get source code\n",
        "inspect.signature(requests.get)       # Show function signature\n",
        "\n",
        "# Type checking for defensive programming. Like most/all *.isXYZ functions, these return a boolean\n",
        "inspect.isfunction(obj)                   # Check if object is a function\n",
        "inspect.isclass(obj)                      # Check if object is a class\n",
        "inspect.ismodule(obj)                     # Check if object is a module\n",
        "inspect.ismethod(obj)                     # Check if object is a method\n",
        "\n",
        "# Parameter introspection for safe calling\n",
        "sig = inspect.signature(requests.get)\n",
        "for param_name, param in sig.parameters.items():\n",
        "    print(f\"{param_name}: {param.annotation}, default={param.default}\")\n"
      ]
    },
    {
      "cell_type": "markdown",
      "metadata": {
        "source_anchor": "README.md:319",
        "source_file": "README.md",
        "source_line": 319
      },
      "source": [
        "<!-- source:README.md:319 -->\n",
        "Function signatures are particularly valuable because they show you not just what parameters are required, but also type hints and default values. This information is essential for writing defensive code that handles edge cases gracefully.\n",
        "\n",
        "### Adding Deep Inspection To Your Own Code\n",
        "\n",
        "To make your own functions work with `inspect.signature()` and other introspection tools, you need to understand how Python's signature system works. Here are the key approaches:\n",
        "\n",
        "#### 1. Automatic Signature Detection (Most Common)\n",
        "\n",
        "Python automatically detects signatures for most functions with type hints:\n"
      ]
    },
    {
      "cell_type": "code",
      "execution_count": null,
      "metadata": {
        "source_anchor": "README.md:331",
        "source_file": "README.md",
        "source_line": 331
      },
      "outputs": [],
      "source": [
        "# [source:README.md:331]\n",
        "import inspect\n",
        "\n",
        "def my_library_function(name: str, age: int = 25, city: str = \"NYC\") -> str:\n",
        "    \"\"\"A function with type hints and defaults\"\"\"\n",
        "    return f\"{name} is {age} from {city}\"\n",
        "\n",
        "# inspect.signature() works automatically\n",
        "sig = inspect.signature(my_library_function)\n",
        "print(sig)  # (name: str, age: int = 25, city: str = \"NYC\") -> str\n",
        "\n",
        "# Get parameter details\n",
        "for param_name, param in sig.parameters.items():\n",
        "    print(f\"{param_name}: {param.annotation}, default={param.default}\")\n"
      ]
    },
    {
      "cell_type": "markdown",
      "metadata": {
        "source_anchor": "README.md:345",
        "source_file": "README.md",
        "source_line": 345
      },
      "source": [
        "<!-- source:README.md:345 -->\n",
        "#### 2. Using `__annotations__` for Type Hints\n"
      ]
    },
    {
      "cell_type": "code",
      "execution_count": null,
      "metadata": {
        "source_anchor": "README.md:349",
        "source_file": "README.md",
        "source_line": 349
      },
      "outputs": [],
      "source": [
        "# [source:README.md:349]\n",
        "def my_dynamic_function(x, y, z):\n",
        "    \"\"\"Function without type hints in signature\"\"\"\n",
        "    pass\n",
        "\n",
        "# Add type hints after definition\n",
        "my_dynamic_function.__annotations__ = {\n",
        "    'x': int,\n",
        "    'y': str, \n",
        "    'z': list,\n",
        "    'return': bool\n",
        "}\n",
        "\n",
        "# Now inspect.signature() will show the types\n",
        "sig = inspect.signature(my_dynamic_function)\n",
        "print(sig)  # (x: int, y: str, z: list) -> bool\n"
      ]
    },
    {
      "cell_type": "markdown",
      "metadata": {
        "source_anchor": "README.md:365",
        "source_file": "README.md",
        "source_line": 365
      },
      "source": [
        "<!-- source:README.md:365 -->\n",
        "#### 3. Using `functools.wraps` for Decorators\n"
      ]
    },
    {
      "cell_type": "code",
      "execution_count": null,
      "metadata": {
        "source_anchor": "README.md:369",
        "source_file": "README.md",
        "source_line": 369
      },
      "outputs": [],
      "source": [
        "# [source:README.md:369]\n",
        "import functools\n",
        "import inspect\n",
        "\n",
        "def my_decorator(func):\n",
        "    @functools.wraps(func)  # This preserves the original signature\n",
        "    def wrapper(*args, **kwargs):\n",
        "        print(f\"Calling {func.__name__}\")\n",
        "        return func(*args, **kwargs)\n",
        "    return wrapper\n",
        "\n",
        "@my_decorator\n",
        "def decorated_function(name: str, count: int = 1) -> str:\n",
        "    return name * count\n",
        "\n",
        "# inspect.signature() works correctly\n",
        "sig = inspect.signature(decorated_function)\n",
        "print(sig)  # (name: str, count: int = 1) -> str\n"
      ]
    },
    {
      "cell_type": "markdown",
      "metadata": {
        "source_anchor": "README.md:387",
        "source_file": "README.md",
        "source_line": 387
      },
      "source": [
        "<!-- source:README.md:387 -->\n",
        "#### 4. Custom Signature with `inspect.Signature`\n",
        "\n",
        "For advanced cases, you can create custom signatures:\n"
      ]
    },
    {
      "cell_type": "code",
      "execution_count": null,
      "metadata": {
        "source_anchor": "README.md:393",
        "source_file": "README.md",
        "source_line": 393
      },
      "outputs": [],
      "source": [
        "# [source:README.md:393]\n",
        "import inspect\n",
        "from inspect import Parameter\n",
        "\n",
        "def my_dynamic_function(*args, **kwargs):\n",
        "    \"\"\"Function with dynamic behavior\"\"\"\n",
        "    pass\n",
        "\n",
        "# Create a custom signature\n",
        "params = [\n",
        "    Parameter('name', Parameter.POSITIONAL_OR_KEYWORD, annotation=str),\n",
        "    Parameter('age', Parameter.POSITIONAL_OR_KEYWORD, default=25, annotation=int),\n",
        "    Parameter('city', Parameter.KEYWORD_ONLY, default=\"NYC\", annotation=str)\n",
        "]\n",
        "\n",
        "# Attach the signature\n",
        "my_dynamic_function.__signature__ = inspect.Signature(\n",
        "    parameters=params,\n",
        "    return_annotation=str\n",
        ")\n",
        "\n",
        "# Now inspect.signature() works\n",
        "sig = inspect.signature(my_dynamic_function)\n",
        "print(sig)  # (name: str, age: int = 25, *, city: str = 'NYC') -> str\n"
      ]
    },
    {
      "cell_type": "markdown",
      "metadata": {
        "source_anchor": "README.md:417",
        "source_file": "README.md",
        "source_line": 417
      },
      "source": [
        "<!-- source:README.md:417 -->\n",
        "#### 5. Best Practices for Library Functions\n"
      ]
    },
    {
      "cell_type": "code",
      "execution_count": null,
      "metadata": {
        "source_anchor": "README.md:421",
        "source_file": "README.md",
        "source_line": 421
      },
      "outputs": [],
      "source": [
        "# [source:README.md:421]\n",
        "import inspect\n",
        "from typing import Optional, List, Dict, Any\n",
        "\n",
        "def my_library_api(\n",
        "    endpoint: str,\n",
        "    data: Optional[Dict[str, Any]] = None,\n",
        "    headers: Optional[Dict[str, str]] = None,\n",
        "    timeout: float = 30.0\n",
        ") -> Dict[str, Any]:\n",
        "    \"\"\"\n",
        "    A well-documented library function that works great with inspect.signature()\n",
        "    \n",
        "    Args:\n",
        "        endpoint: The API endpoint to call\n",
        "        data: Optional data to send\n",
        "        headers: Optional headers to include\n",
        "        timeout: Request timeout in seconds\n",
        "    \n",
        "    Returns:\n",
        "        Response data as dictionary\n",
        "    \"\"\"\n",
        "    # Implementation here\n",
        "    pass\n",
        "\n",
        "# This automatically works with inspect.signature()\n",
        "sig = inspect.signature(my_library_api)\n",
        "print(sig)\n",
        "# (endpoint: str, data: Optional[Dict[str, Any]] = None, \n",
        "#  headers: Optional[Dict[str, str]] = None, timeout: float = 30.0) -> Dict[str, Any]\n"
      ]
    },
    {
      "cell_type": "markdown",
      "metadata": {
        "source_anchor": "README.md:451",
        "source_file": "README.md",
        "source_line": 451
      },
      "source": [
        "<!-- source:README.md:451 -->\n",
        "#### Key Points for Your Own Code:\n",
        "\n",
        "1. **Type hints are automatically detected** by `inspect.signature()`\n",
        "2. **Default values are preserved** in the signature\n",
        "3. **Return type annotations** are included\n",
        "4. **`functools.wraps`** preserves signatures in decorators\n",
        "5. **Custom signatures** can be created for special cases\n",
        "\n",
        "The most common and recommended approach is to use **type hints** in your function definitions - Python will automatically make them work with `inspect.signature()` and other introspection tools.\n",
        "\n",
        "---\n",
        "\n",
        "## 🏗️ Domain Model Discovery\n",
        "\n",
        "Understanding a library's domain model is crucial for writing code that aligns with the library's intended patterns. The domain model represents how the library thinks about the problem space - what are the core entities, what operations are available, and how do they relate to each other.\n",
        "\n",
        "Domain-driven design principles apply to library exploration: you want to identify the ubiquitous language (naming conventions), bounded contexts (module boundaries), and core abstractions (main classes and interfaces). This understanding helps you write code that feels natural and maintainable.\n"
      ]
    },
    {
      "cell_type": "code",
      "execution_count": null,
      "metadata": {
        "source_anchor": "README.md:471",
        "source_file": "README.md",
        "source_line": 471
      },
      "outputs": [],
      "source": [
        "# [source:README.md:471]\n",
        "# Find the core abstractions and entities\n",
        "classes = [name for name, obj in inspect.getmembers(requests, inspect.isclass)]\n",
        "functions = [name for name, obj in inspect.getmembers(requests, inspect.isfunction)]\n",
        "constants = [name for name in dir(requests) if name.isupper()]\n",
        "\n",
        "print(\"Core Classes (Domain Entities):\", classes)\n",
        "print(\"Operations (Domain Services):\", functions) \n",
        "print(\"Configuration/Constants:\", constants)\n",
        "\n",
        "# Explore class hierarchies to understand domain relationships\n",
        "for cls_name in classes:\n",
        "    cls = getattr(requests, cls_name)\n",
        "    print(f\"{cls_name}: {cls.__mro__}\")  # Method Resolution Order shows inheritance\n"
      ]
    },
    {
      "cell_type": "markdown",
      "metadata": {
        "source_anchor": "README.md:485",
        "source_file": "README.md",
        "source_line": 485
      },
      "source": [
        "<!-- source:README.md:485 -->\n",
        "### Model Context Protocol Example:\n"
      ]
    },
    {
      "cell_type": "code",
      "execution_count": null,
      "metadata": {
        "source_anchor": "README.md:488",
        "source_file": "README.md",
        "source_line": 488
      },
      "outputs": [],
      "source": [
        "# [source:README.md:488]\n",
        "import mcp\n",
        "# Discover the MCP domain abstractions\n",
        "protocol_classes = [name for name, obj in inspect.getmembers(mcp, inspect.isclass) \n",
        "                    if any(term in name.lower() for term in ['server', 'client', 'transport', 'handler'])]\n",
        "print(\"Protocol Domain Objects:\", protocol_classes)\n",
        "\n",
        "# Understand the communication patterns\n",
        "transport_types = [name for name in dir(mcp) if 'transport' in name.lower()]\n",
        "message_types = [name for name in dir(mcp) if 'message' in name.lower() or 'request' in name.lower()]\n",
        "print(\"Transport mechanisms:\", transport_types)\n",
        "print(\"Message types:\", message_types)\n"
      ]
    },
    {
      "cell_type": "markdown",
      "metadata": {
        "source_anchor": "README.md:500",
        "source_file": "README.md",
        "source_line": 500
      },
      "source": [
        "<!-- source:README.md:500 -->\n",
        "Class hierarchies (shown by `__mro__`) reveal inheritance relationships and help you understand which classes are specializations of others. Constants often represent configuration options or enumerated values that are important for proper usage.\n",
        "\n",
        "---\n",
        "\n",
        "## 🛡️ Defensive Exploration & Error Discovery\n",
        "\n",
        "Defensive programming starts with understanding what can go wrong. By discovering a library's exception hierarchy and testing edge cases early, you can write more robust code and handle errors gracefully.\n"
      ]
    },
    {
      "cell_type": "code",
      "execution_count": null,
      "metadata": {
        "source_anchor": "README.md:510",
        "source_file": "README.md",
        "source_line": 510
      },
      "outputs": [],
      "source": [
        "# [source:README.md:510]\n",
        "# Discover what exceptions a library defines\n",
        "exceptions = [name for name, obj in inspect.getmembers(requests, \n",
        "             lambda x: inspect.isclass(x) and issubclass(x, Exception))]\n",
        "print(\"Custom Exceptions:\", exceptions)\n",
        "\n",
        "# Test parameter validation safely\n",
        "def safe_explore_function(func, test_args=None):\n",
        "    \"\"\"Safely test a function with various inputs\"\"\"\n",
        "    sig = inspect.signature(func)\n",
        "    try:\n",
        "        if not test_args:\n",
        "            # Try calling with no args if no required params\n",
        "            required_params = [p for p in sig.parameters.values() \n",
        "                             if p.default == inspect.Parameter.empty]\n",
        "            if not required_params:\n",
        "                result = func()\n",
        "                print(f\"✅ {func.__name__}() -> {type(result)}\")\n",
        "        else:\n",
        "            result = func(*test_args)\n",
        "            print(f\"✅ {func.__name__}{test_args} -> {type(result)}\")\n",
        "    except Exception as e:\n",
        "        print(f\"❌ {func.__name__}: {type(e).__name__}: {e}\")\n",
        "\n",
        "# Example usage\n",
        "safe_explore_function(requests.get, (\"https://httpbin.org/get\",))\n"
      ]
    },
    {
      "cell_type": "markdown",
      "metadata": {
        "source_anchor": "README.md:536",
        "source_file": "README.md",
        "source_line": 536
      },
      "source": [
        "<!-- source:README.md:536 -->\n",
        "Custom exceptions tell you what the library considers to be error conditions and how it expects you to handle them. The safe exploration function helps you test library functions without crashing your exploration session.\n",
        "\n",
        "### MCP Error Handling Example:\n"
      ]
    },
    {
      "cell_type": "code",
      "execution_count": null,
      "metadata": {
        "source_anchor": "README.md:541",
        "source_file": "README.md",
        "source_line": 541
      },
      "outputs": [],
      "source": [
        "# [source:README.md:541]\n",
        "import mcp\n",
        "# Discover MCP-specific error handling patterns\n",
        "mcp_exceptions = [name for name, obj in inspect.getmembers(mcp, \n",
        "                 lambda x: inspect.isclass(x) and issubclass(x, Exception))]\n",
        "print(\"MCP Error types:\", mcp_exceptions)\n",
        "\n",
        "# Look for error handling patterns\n",
        "error_handlers = [name for name in dir(mcp) if 'error' in name.lower() or 'exception' in name.lower()]\n",
        "print(\"Error handling utilities:\", error_handlers)\n"
      ]
    },
    {
      "cell_type": "markdown",
      "metadata": {
        "source_anchor": "README.md:551",
        "source_file": "README.md",
        "source_line": 551
      },
      "source": [
        "<!-- source:README.md:551 -->\n",
        "---\n",
        "\n",
        "## 🎯 Usage Pattern Discovery\n",
        "\n",
        "Libraries often follow common patterns that aren't immediately obvious from their API documentation. By analyzing naming conventions, method patterns, and docstring examples, you can discover the idiomatic ways to use the library.\n"
      ]
    },
    {
      "cell_type": "markdown",
      "metadata": {
        "source_anchor": "README.md:559",
        "source_file": "README.md",
        "source_line": 559
      },
      "source": [
        "<!-- source:README.md:559 -->\n",
        "```python\n",
        "# Find example usage in docstrings\n",
        "import re\n",
        "import inspect\n",
        "\n",
        "def find_usage_examples(module):\n",
        "    \"\"\"Extract code examples from docstrings\"\"\"\n",
        "    for name, obj in inspect.getmembers(module):\n",
        "        if hasattr(obj, '__doc__') and obj.__doc__:\n",
        "            # Look for >>> patterns (doctest style)\n",
        "            examples = re.findall(r'>>> .*', obj.__doc__)\n",
        "            if examples:\n",
        "                print(f\"\\n{name} examples:\")\n",
        "                for example in examples:\n",
        "                    print(example)\n",
        "\n",
        "find_usage_examples(requests)\n",
        "```"
      ]
    },
    {
      "cell_type": "code",
      "execution_count": null,
      "metadata": {
        "source_anchor": "README.md:578",
        "source_file": "README.md",
        "source_line": 578
      },
      "outputs": [],
      "source": [
        "# [source:README.md:578]\n",
        "# Discover common patterns by analyzing method names\n",
        "import inspect\n",
        "\n",
        "def analyze_api_patterns(module):\n",
        "    \"\"\"Identify common API patterns\"\"\"\n",
        "    patterns = {}\n",
        "    for name, obj in inspect.getmembers(module):\n",
        "        if inspect.isfunction(obj) or inspect.ismethod(obj):\n",
        "            # Analyze method names for patterns\n",
        "            if name.startswith('get_'):\n",
        "                patterns.setdefault('getters', []).append(name)\n",
        "            elif name.startswith('set_'):\n",
        "                patterns.setdefault('setters', []).append(name)\n",
        "            elif name.startswith('is_'):\n",
        "                patterns.setdefault('predicates', []).append(name)\n",
        "    return patterns\n",
        "    pass\n",
        "# Example usage\n",
        "# patterns = analyze_api_patterns(requests)\n",
        "# print(\"API Patterns:\", patterns)\n"
      ]
    },
    {
      "cell_type": "markdown",
      "metadata": {
        "source_anchor": "README.md:599",
        "source_file": "README.md",
        "source_line": 599
      },
      "source": [
        "<!-- source:README.md:599 -->\n",
        "CRUD pattern analysis helps you understand how the library handles data operations, while async pattern discovery reveals whether the library supports concurrent operations and how to use them properly.\n",
        "\n",
        "---\n",
        "\n",
        "## ⚡ Performance Introspection\n",
        "\n",
        "Understanding the performance characteristics of library functions helps you make informed decisions about when and how to use them. Simple profiling during exploration can reveal performance bottlenecks before they become problems in production.\n"
      ]
    },
    {
      "cell_type": "code",
      "execution_count": null,
      "metadata": {
        "source_anchor": "README.md:609",
        "source_file": "README.md",
        "source_line": 609
      },
      "outputs": [],
      "source": [
        "# [source:README.md:609]\n",
        "import timeit\n",
        "import sys\n",
        "import tracemalloc\n",
        "\n",
        "# Quick performance check\n",
        "def profile_function(func, *args, **kwargs):\n",
        "    \"\"\"Quick performance profiling of a function\"\"\"\n",
        "    # Time it\n",
        "    time_taken = timeit.timeit(lambda: func(*args, **kwargs), number=1000)\n",
        "    print(f\"⏱️ {func.__name__}: {time_taken:.4f}s for 1000 calls\")\n",
        "    \n",
        "    # Memory usage\n",
        "    tracemalloc.start()\n",
        "    result = func(*args, **kwargs)\n",
        "    current, peak = tracemalloc.get_traced_memory()\n",
        "    tracemalloc.stop()\n",
        "    print(f\"🧠 Memory: {current / 1024:.2f} KB current, {peak / 1024:.2f} KB peak\")\n",
        "    \n",
        "    return result\n",
        "\n",
        "# Check object sizes\n",
        "def object_size_analysis(obj):\n",
        "    \"\"\"Analyze memory footprint of objects\"\"\"\n",
        "    print(f\"Object size: {sys.getsizeof(obj)} bytes\")\n",
        "    if hasattr(obj, '__dict__'):\n",
        "        print(f\"Dict size: {sys.getsizeof(obj.__dict__)} bytes\")\n",
        "        print(f\"Attributes: {len(obj.__dict__)}\")\n",
        "\n",
        "# Example usage\n",
        "# profile_function(requests.get, \"https://httpbin.org/get\")\n"
      ]
    },
    {
      "cell_type": "markdown",
      "metadata": {
        "source_anchor": "README.md:640",
        "source_file": "README.md",
        "source_line": 640
      },
      "source": [
        "<!-- source:README.md:640 -->\n",
        "Memory profiling is particularly important for libraries that create large objects or process significant amounts of data. Object size analysis helps you understand the memory overhead of different approaches.\n",
        "\n",
        "---\n",
        "\n",
        "## 🧪 Interactive Exploration Workflow\n",
        "\n",
        "Having a systematic workflow for exploration ensures you don't miss important aspects of a library and helps you build understanding progressively from high-level concepts to specific implementation details.\n"
      ]
    },
    {
      "cell_type": "code",
      "execution_count": null,
      "metadata": {
        "source_anchor": "README.md:650",
        "source_file": "README.md",
        "source_line": 650
      },
      "outputs": [],
      "source": [
        "# [source:README.md:650]\n",
        "# Complete exploration template\n",
        "import inspect\n",
        "import importlib\n",
        "\n",
        "def explore_package(package_name):\n",
        "    \"\"\"Complete package exploration workflow\"\"\"\n",
        "\n",
        "    # Import the package\n",
        "    module = importlib.import_module(package_name)\n",
        "\n",
        "    print(f\"🔍 Exploring {package_name}\")\n",
        "    print(\"=\" * 50)\n",
        "\n",
        "    # Basic info\n",
        "    print(f\"📦 Package: {module.__name__}\")\n",
        "    print(f\"📄 File: {module.__file__}\")\n",
        "    print(f\"📝 Doc: {module.__doc__[:100] if module.__doc__ else 'No docstring'}...\")\n",
        "\n",
        "    # All exports\n",
        "    if hasattr(module, '__all__'):\n",
        "        print(f\"📋 Exports: {module.__all__}\")\n",
        "\n",
        "    # Key classes and functions\n",
        "    classes = [name for name, obj in inspect.getmembers(module, inspect.isclass)]\n",
        "    functions = [name for name, obj in inspect.getmembers(module, inspect.isfunction)]\n",
        "\n",
        "    print(f\"🏗️ Classes: {classes[:10]}{'...' if len(classes) > 10 else ''}\")\n",
        "    print(f\"⚙️ Functions: {functions[:10]}{'...' if len(functions) > 10 else ''}\")\n",
        "\n",
        "    return module\n",
        "\n",
        "# Usage examples\n",
        "# explore_package('requests')\n",
        "# explore_package('json')\n",
        "# explore_package('webbrowser')\n"
      ]
    },
    {
      "cell_type": "markdown",
      "metadata": {
        "source_anchor": "README.md:686",
        "source_file": "README.md",
        "source_line": 686
      },
      "source": [
        "<!-- source:README.md:686 -->\n",
        "This workflow template provides a consistent starting point for any library exploration. It builds understanding progressively and gives you concrete next steps for deeper investigation.\n",
        "\n",
        "---\n",
        "\n",
        "## 🚀 Pro Tips for Productive Exploration\n",
        "\n",
        "### Use IPython Magic\n"
      ]
    },
    {
      "cell_type": "code",
      "execution_count": null,
      "metadata": {
        "source_anchor": "README.md:695",
        "source_file": "README.md",
        "source_line": 695
      },
      "outputs": [],
      "source": [
        "# [source:README.md:695]\n",
        "%%bash\n",
        "pip install ipython rich\n",
        "ipython\n"
      ]
    },
    {
      "cell_type": "markdown",
      "metadata": {
        "source_anchor": "README.md:698",
        "source_file": "README.md",
        "source_line": 698
      },
      "source": [
        "<!-- source:README.md:698 -->\n",
        "IPython transforms your exploration experience with enhanced introspection capabilities, tab completion, and rich formatting. The `%timeit` magic command is particularly useful for quick performance testing, while `%pdb` drops you into the debugger when exceptions occur.\n",
        "\n",
        "### Quick Testing Patterns\n"
      ]
    },
    {
      "cell_type": "code",
      "execution_count": null,
      "metadata": {
        "source_anchor": "README.md:703",
        "source_file": "README.md",
        "source_line": 703
      },
      "outputs": [],
      "source": [
        "# [source:README.md:703]\n",
        "# Create a sandbox namespace for safe experimentation\n",
        "import types\n",
        "sandbox = types.ModuleType('sandbox')\n",
        "\n",
        "# Test configurations safely\n",
        "test_configs = [\n",
        "    {'timeout': 5},\n",
        "    {'timeout': 10, 'verify': False},\n",
        "    {}  # Empty config\n",
        "]\n",
        "\n",
        "for config in test_configs:\n",
        "    try:\n",
        "        session = requests.Session()\n",
        "        # Test session configuration\n",
        "        for key, value in config.items():\n",
        "            setattr(session, key, value)\n",
        "        print(f\"✅ Config {config} -> Session configured\")\n",
        "    except Exception as e:\n",
        "        print(f\"❌ Config {config} -> {type(e).__name__}: {e}\")\n"
      ]
    },
    {
      "cell_type": "markdown",
      "metadata": {
        "source_anchor": "README.md:724",
        "source_file": "README.md",
        "source_line": 724
      },
      "source": [
        "<!-- source:README.md:724 -->\n",
        "The sandbox pattern is particularly useful when you're not sure if library functions have side effects. Testing multiple configurations quickly reveals the flexibility and constraints of the library's interfaces.\n",
        "\n",
        "### MCP Specific Exploration\n"
      ]
    },
    {
      "cell_type": "code",
      "execution_count": null,
      "metadata": {
        "source_anchor": "README.md:729",
        "source_file": "README.md",
        "source_line": 729
      },
      "outputs": [],
      "source": [
        "# [source:README.md:729]\n",
        "# Discover MCP server/client patterns\n",
        "import mcp\n",
        "\n",
        "# Find builder/factory patterns for MCP components\n",
        "builders = [name for name in dir(mcp) if any(term in name.lower() \n",
        "           for term in ['builder', 'factory', 'create'])]\n",
        "print(\"MCP builders:\", builders)\n",
        "\n",
        "# Explore server and client abstractions\n",
        "server_types = [name for name in dir(mcp) if 'server' in name.lower()]\n",
        "client_types = [name for name in dir(mcp) if 'client' in name.lower()]\n",
        "print(\"Server types:\", server_types)\n",
        "print(\"Client types:\", client_types)\n",
        "\n",
        "# Understand transport and protocol layers\n",
        "transport_classes = [name for name, obj in inspect.getmembers(mcp, inspect.isclass)\n",
        "                    if 'transport' in name.lower()]\n",
        "protocol_classes = [name for name, obj in inspect.getmembers(mcp, inspect.isclass)\n",
        "                   if 'protocol' in name.lower()]\n",
        "print(\"Transport layer:\", transport_classes)\n",
        "print(\"Protocol layer:\", protocol_classes)\n"
      ]
    },
    {
      "cell_type": "markdown",
      "metadata": {
        "source_anchor": "README.md:751",
        "source_file": "README.md",
        "source_line": 751
      },
      "source": [
        "<!-- source:README.md:751 -->\n",
        "---\n",
        "\n",
        "## 🎯 Conclusion\n",
        "\n",
        "Effective library exploration is about building understanding systematically, from high-level domain concepts to specific implementation details. By following this guide, you've learned to:\n",
        "\n",
        "**Understand the Structure**: Basic introspection and documentation exploration give you the lay of the land, while dunder attributes reveal the object's identity and contracts.\n",
        "\n",
        "**Map the Domain**: Domain model discovery helps you understand how the library thinks about the problem space, enabling you to write code that aligns with the library's intended patterns.\n",
        "\n",
        "**Explore Safely**: Defensive exploration techniques help you understand error conditions and edge cases without breaking your exploration session.\n",
        "\n",
        "**Discover Patterns**: Usage pattern analysis reveals idiomatic approaches and common workflows that may not be obvious from documentation alone.\n",
        "\n",
        "**Assess Performance**: Performance introspection helps you make informed decisions about when and how to use different library features.\n",
        "\n",
        "**Work Systematically**: The interactive exploration workflow ensures comprehensive coverage and gives you a repeatable process for any new library.\n",
        "\n",
        "The key insight is that library exploration is not just about learning the API - it's about understanding the library's mental model and design philosophy. When you understand how a library thinks about the problem domain, you can write code that feels natural, performs well, and handles edge cases gracefully.\n",
        "\n",
        "Remember to start broad with the exploration workflow, then dive deep into the specific classes and functions that map to your domain needs. The REPL is your laboratory for understanding not just what the library can do, but how it expects to be used.\n",
        "\n",
        "**Happy exploring!** 🐍✨\n",
        "\n",
        "---\n",
        "\n",
        "## 🛠️ Automation Tools\n",
        "\n",
        "This project includes several automation tools to convert the README into different formats for enhanced learning and documentation.\n",
        "\n",
        "### 📓 Interactive Jupyter Notebook\n",
        "\n",
        "The README can be automatically converted to an interactive Jupyter notebook where:\n",
        "- **Python code blocks** become executable code cells\n",
        "- **Shell/bash commands** become terminal cells using `%%bash` magic\n",
        "- **Markdown content** becomes documentation cells\n",
        "- **Headers and structure** are preserved\n",
        "\n",
        "#### Quick Start\n"
      ]
    },
    {
      "cell_type": "code",
      "execution_count": null,
      "metadata": {
        "source_anchor": "README.md:793",
        "source_file": "README.md",
        "source_line": 793
      },
      "outputs": [],
      "source": [
        "# [source:README.md:793]\n",
        "%%bash\n",
        "# Convert README to notebook\n",
        "python3 convert_to_notebook.py README.md -o Mastering-New-Python-Libraries.ipynb\n",
        "\n",
        "# Or use the Makefile\n",
        "make notebook\n",
        "\n",
        "# Open the notebook\n",
        "jupyter notebook Mastering-New-Python-Libraries.ipynb\n"
      ]
    },
    {
      "cell_type": "markdown",
      "metadata": {
        "source_anchor": "README.md:802",
        "source_file": "README.md",
        "source_line": 802
      },
      "source": [
        "<!-- source:README.md:802 -->\n",
        "#### Features\n",
        "\n",
        "- **Automatic Setup Cell**: Includes imports and configuration\n",
        "- **Shell Command Support**: Uses `%%bash` magic for terminal commands\n",
        "- **Enhanced Comments**: Adds context to shell commands\n",
        "- **Error Handling**: Includes helpful comments for troubleshooting\n",
        "\n",
        "#### Notebook Structure\n"
      ]
    },
    {
      "cell_type": "markdown",
      "metadata": {
        "source_anchor": "README.md:813",
        "source_file": "README.md",
        "source_line": 813
      },
      "source": [
        "<!-- source:README.md:813 -->\n",
        "```text\n",
        "# Setup cell (auto-generated)\n",
        "import sys\n",
        "import os\n",
        "from pathlib import Path\n",
        "%load_ext ipython_magic_bash\n",
        "from IPython.display import display, HTML\n",
        "import warnings\n",
        "warnings.filterwarnings('ignore')\n",
        "\n",
        "# Example shell command cell\n",
        "%%bash\n",
        "# Install Python package\n",
        "pip install requests\n",
        "# Note: If this command fails, you may need to install dependencies or adjust paths\n",
        "\n",
        "# Example Python code cell\n",
        "import requests\n",
        "response = requests.get('https://httpbin.org/get')\n",
        "print(response.json())\n",
        "```"
      ]
    },
    {
      "cell_type": "markdown",
      "metadata": {
        "source_anchor": "README.md:833",
        "source_file": "README.md",
        "source_line": 833
      },
      "source": [
        "<!-- source:README.md:833 -->\n",
        "### 📄 PDF Generation\n",
        "\n",
        "Generate a professional PDF version of the README:\n"
      ]
    },
    {
      "cell_type": "code",
      "execution_count": null,
      "metadata": {
        "source_anchor": "README.md:839",
        "source_file": "README.md",
        "source_line": 839
      },
      "outputs": [],
      "source": [
        "# [source:README.md:839]\n",
        "%%bash\n",
        "# Build PDF\n",
        "make pdf\n",
        "\n",
        "# Or manually with pandoc\n",
        "pandoc README.md \\\n",
        "  --pdf-engine=xelatex \\\n",
        "  --variable=geometry:margin=1in \\\n",
        "  --variable=fontsize:11pt \\\n",
        "  --variable=mainfont:\"DejaVu Sans\" \\\n",
        "  --variable=monofont:\"DejaVu Sans Mono\" \\\n",
        "  --variable=colorlinks:true \\\n",
        "  --toc \\\n",
        "  --number-sections \\\n",
        "  --output=Mastering-New-Python-Libraries.pdf\n"
      ]
    },
    {
      "cell_type": "markdown",
      "metadata": {
        "source_anchor": "README.md:854",
        "source_file": "README.md",
        "source_line": 854
      },
      "source": [
        "<!-- source:README.md:854 -->\n",
        "### 🔄 Automation Options\n",
        "\n",
        "#### Pre-commit Hook\n",
        "\n",
        "A Git pre-commit hook automatically converts the README to a notebook when you commit changes:\n"
      ]
    },
    {
      "cell_type": "code",
      "execution_count": null,
      "metadata": {
        "source_anchor": "README.md:862",
        "source_file": "README.md",
        "source_line": 862
      },
      "outputs": [],
      "source": [
        "# [source:README.md:862]\n",
        "%%bash\n",
        "# The hook is already installed at .git/hooks/pre-commit\n",
        "# It will automatically run when you commit changes to README.md\n",
        "git add README.md\n",
        "git commit -m \"feat: add new exploration techniques\"\n",
        "# Notebook is automatically generated and added to commit\n"
      ]
    },
    {
      "cell_type": "markdown",
      "metadata": {
        "source_anchor": "README.md:868",
        "source_file": "README.md",
        "source_line": 868
      },
      "source": [
        "<!-- source:README.md:868 -->\n",
        "#### GitHub Actions\n",
        "\n",
        "Two GitHub Actions workflows automatically build artifacts:\n",
        "\n",
        "1. **PDF Build** (`.github/workflows/build-pdf.yml`):\n",
        "   - Triggers on tags and README changes\n",
        "   - Creates semantic versions from commit messages\n",
        "   - Generates PDF with professional formatting\n",
        "   - Creates GitHub releases on tags\n",
        "   - Comments on PRs with artifact information\n",
        "\n",
        "2. **Notebook Build** (`.github/workflows/build-notebook.yml`):\n",
        "   - Triggers on README changes\n",
        "   - Converts README to interactive notebook\n",
        "   - Uploads notebook as artifact\n",
        "   - Comments on PRs with notebook statistics\n",
        "\n",
        "#### Makefile Commands\n"
      ]
    },
    {
      "cell_type": "code",
      "execution_count": null,
      "metadata": {
        "source_anchor": "README.md:889",
        "source_file": "README.md",
        "source_line": 889
      },
      "outputs": [],
      "source": [
        "# [source:README.md:889]\n",
        "%%bash\n",
        "make help          # Show all available commands\n",
        "make notebook      # Convert README to notebook\n",
        "make pdf           # Build PDF from README\n",
        "make all           # Build both notebook and PDF\n",
        "make clean         # Remove generated files\n",
        "make install       # Install dependencies with Rye\n",
        "make sync          # Sync Rye environment\n"
      ]
    },
    {
      "cell_type": "markdown",
      "metadata": {
        "source_anchor": "README.md:897",
        "source_file": "README.md",
        "source_line": 897
      },
      "source": [
        "<!-- source:README.md:897 -->\n",
        "#### VS Code Tasks\n",
        "\n",
        "VS Code tasks are configured in `.vscode/tasks.json`:\n",
        "\n",
        "- **Build Notebook**: Convert README to Jupyter notebook\n",
        "- **Build PDF**: Generate PDF from README\n",
        "- **Build All**: Run both notebook and PDF builds\n",
        "- **Open Notebook**: Launch Jupyter notebook\n",
        "\n",
        "Access via `Cmd+Shift+P` → \"Tasks: Run Task\"\n",
        "\n",
        "### 🎯 Use Cases\n",
        "\n",
        "#### For Learners\n",
        "- **Interactive Exploration**: Run all code examples directly in the notebook\n",
        "- **Shell Commands**: Execute `pip install` and other commands without leaving the notebook\n",
        "- **Progressive Learning**: Work through examples step-by-step with immediate feedback\n",
        "\n",
        "#### For Educators\n",
        "- **Live Demonstrations**: Use the notebook for live coding sessions\n",
        "- **Student Assignments**: Distribute the notebook for hands-on learning\n",
        "- **Version Control**: Track changes to examples and explanations\n",
        "\n",
        "#### For Documentation\n",
        "- **Living Documentation**: Keep code examples synchronized with documentation\n",
        "- **Multiple Formats**: Maintain both markdown and notebook versions\n",
        "- **Automated Updates**: Ensure consistency across all formats\n",
        "\n",
        "### 🔧 Configuration\n",
        "\n",
        "#### Customizing the Conversion\n"
      ]
    },
    {
      "cell_type": "code",
      "execution_count": null,
      "metadata": {
        "source_anchor": "README.md:931",
        "source_file": "README.md",
        "source_line": 931
      },
      "outputs": [],
      "source": [
        "# [source:README.md:931]\n",
        "%%bash\n",
        "# Modify convert_to_notebook.py for custom behavior\n",
        "python3 convert_to_notebook.py README.md \\\n",
        "  --output custom-notebook.ipynb \\\n",
        "  --no-setup \\\n",
        "  --no-toc\n"
      ]
    },
    {
      "cell_type": "markdown",
      "metadata": {
        "source_anchor": "README.md:937",
        "source_file": "README.md",
        "source_line": 937
      },
      "source": [
        "<!-- source:README.md:937 -->\n",
        "#### Dependencies\n",
        "\n",
        "The conversion requires:\n",
        "- `jupyter` and `ipython` for notebook viewing and shell command execution\n",
        "- `pandoc` for PDF generation\n",
        "\n",
        "Install with:\n"
      ]
    },
    {
      "cell_type": "code",
      "execution_count": null,
      "metadata": {
        "source_anchor": "README.md:946",
        "source_file": "README.md",
        "source_line": 946
      },
      "outputs": [],
      "source": [
        "# [source:README.md:946]\n",
        "%%bash\n",
        "rye sync  # Installs all dependencies\n"
      ]
    },
    {
      "cell_type": "markdown",
      "metadata": {
        "source_anchor": "README.md:948",
        "source_file": "README.md",
        "source_line": 948
      },
      "source": [
        "<!-- source:README.md:948 -->\n",
        "#### Environment Setup\n",
        "\n",
        "For optimal notebook experience:\n"
      ]
    },
    {
      "cell_type": "code",
      "execution_count": null,
      "metadata": {
        "source_anchor": "README.md:953",
        "source_file": "README.md",
        "source_line": 953
      },
      "outputs": [],
      "source": [
        "# [source:README.md:953]\n",
        "%%bash\n",
        "# Install Jupyter extensions\n",
        "pip install jupyter_contrib_nbextensions\n",
        "jupyter contrib nbextension install --user\n",
        "\n",
        "# Enable useful extensions\n",
        "jupyter nbextension enable toc2/main  # Table of contents\n",
        "jupyter nbextension enable codefolding/main  # Code folding\n"
      ]
    },
    {
      "cell_type": "markdown",
      "metadata": {
        "source_anchor": "README.md:961",
        "source_file": "README.md",
        "source_line": 961
      },
      "source": [
        "<!-- source:README.md:961 -->\n",
        "### 🚀 Advanced Features\n",
        "\n",
        "#### Custom Cell Processing\n",
        "\n",
        "The conversion script can be extended to:\n",
        "- Add custom imports based on code content\n",
        "- Generate test cells for code examples\n",
        "- Add performance profiling cells\n",
        "- Include interactive visualizations\n",
        "\n",
        "#### Integration with Other Tools\n",
        "\n",
        "- **nbconvert**: Convert notebooks to other formats (HTML, slides, etc.)\n",
        "- **papermill**: Parameterize notebooks for batch processing\n",
        "- **jupytext**: Sync notebooks with markdown files\n",
        "\n",
        "#### Continuous Integration\n",
        "\n",
        "The automation works seamlessly with:\n",
        "- **GitHub Actions**: Automated builds on every change\n",
        "- **GitLab CI**: Similar workflows for GitLab repositories\n",
        "- **Local Development**: Pre-commit hooks for immediate feedback\n",
        "\n",
        "This automation system ensures that your documentation stays current, interactive, and accessible in multiple formats while maintaining the quality and consistency of your learning materials.\n",
        "\n",
        "def minimal():\n",
        "    pass\n"
      ]
    }
  ],
  "metadata": {
    "kernelspec": {
      "display_name": "Python 3",
      "language": "python",
      "name": "python3"
    },
    "language_info": {
      "codemirror_mode": {
        "name": "ipython",
        "version": 3
      },
      "file_extension": ".py",
      "mimetype": "text/x-python",
      "name": "python",
      "nbconvert_exporter": "python",
      "pygments_lexer": "ipython3",
      "version": "3.12.0"
    }
  },
  "nbformat": 4,
  "nbformat_minor": 4
}
